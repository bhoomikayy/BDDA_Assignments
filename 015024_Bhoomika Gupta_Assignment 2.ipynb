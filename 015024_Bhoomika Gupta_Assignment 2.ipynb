{
 "cells": [
  {
   "cell_type": "markdown",
   "metadata": {},
   "source": [
    "## Assignemnt 2"
   ]
  },
  {
   "cell_type": "markdown",
   "metadata": {},
   "source": [
    "Given the personal details of a patient, we have to predict medical cost. <p>\n",
    "\n",
    "Columns:\n",
    "\n",
    "<li>age: age of primary beneficiary \n",
    "\n",
    "<li>sex: insurance contractor gender, female, male \n",
    "\n",
    "<li>bmi: Body mass index, providing an understanding of body, weights that are relatively high or low relative to height, \n",
    "objective index of body weight (kg/m^2) using the ratio of height to weight, ideally 18.5 to 24.9 \n",
    "\n",
    "<li>children: Number of children covered by health insurance / Number of dependents \n",
    "\n",
    "<li>smoker: Smoking \n",
    "\n",
    "<li>region: the beneficiary's residential area in the US, northeast, southeast, southwest, northwest. \n",
    "\n",
    "<li>charges: Individual medical costs billed by health insurance "
   ]
  },
  {
   "cell_type": "markdown",
   "metadata": {},
   "source": [
    "#### Hadoop Commands\n",
    "\n",
    "1. ./allstart.sh <B>\n",
    "2. pysparknb (to open jupyter notebook) \n",
    "3. Copy Files using Bitwise SSH Client \n",
    "4. hadoopfs -copyFromLocal filename.csv    \n",
    "    "
   ]
  },
  {
   "cell_type": "markdown",
   "metadata": {},
   "source": [
    "The given dataset can be used by primarily two types of users: <p>\n",
    "    <li> Insurance Companies\n",
    "    <li> Consumers</p>\n",
    "        <p> <b> Insurance Companies </b>\n",
    "            <li> Companies can use consumer data and offer technology, consulting, and other services to providers, payors, government agencies, and life science organizations.\n",
    "            <li> Create targeted marketing campaigns that will acquire new customers.\n",
    "            <li> Identify possible issues, based on client’s data, and furthermore put them into a suitable risk class.     \n",
    "            <li> Data-driven decision making into areas such as cross-selling and reducing customer churn. \n",
    "            <li> Spotlight the highest-value clients and high-potential leads so agents can invest resources more efficiently, predict customer churn more accurately to help improve retention.\n",
    "            <li> Insurers can compare a person's data against past fraudulent profiles and identify cases that require more investigation.     \n",
    "            <li> Insurers can offer usage-based policies and determine claims liability easily and accurately.\n",
    "            <li> Become more personalized by taking into account the medical history of a customer along with their habits. The data can also be utilized to decide a pricing model that fits into the budget of the client and also is profitable for the company.     \n",
    "         <p> <b> Consumers </b>\n",
    "            <li> Consumers who agree to let insurance companies track their habits can learn more about themselves, while insurers can use the data to influence behavior and reduce risks.\n",
    "            <li> They can identify various premium plans that are in accordance with their lifestyle and budget."
   ]
  },
  {
   "cell_type": "code",
   "execution_count": 1,
   "metadata": {},
   "outputs": [],
   "source": [
    "#Entry point to programming Spark with the Dataset and DataFrame API.\n",
    "from pyspark.sql import SparkSession\n",
    "#spark = SparkSession.builder.appName('nlp').getOrCreate()\n",
    "from pyspark.sql.functions import monotonically_increasing_id, desc, row_number\n",
    "from pyspark.sql.window import Window"
   ]
  },
  {
   "cell_type": "code",
   "execution_count": 2,
   "metadata": {},
   "outputs": [],
   "source": [
    "spark = SparkSession.builder.master(\"local[*]\").config(\"spark.executor.memory\", \"70g\").config(\"spark.driver.memory\", \"50g\").config(\"spark.memory.offHeap.enabled\",True).config(\"spark.memory.offHeap.size\",\"16g\").appName(\"sampleCodeForReference\").getOrCreate()"
   ]
  },
  {
   "cell_type": "code",
   "execution_count": 3,
   "metadata": {},
   "outputs": [
    {
     "data": {
      "text/plain": [
       "148"
      ]
     },
     "execution_count": 3,
     "metadata": {},
     "output_type": "execute_result"
    }
   ],
   "source": [
    "#Garbage Collector\n",
    "import gc\n",
    "gc.collect()"
   ]
  },
  {
   "cell_type": "code",
   "execution_count": 4,
   "metadata": {},
   "outputs": [],
   "source": [
    "#Read the data\n",
    "\n",
    "df=spark.read.csv('insurance.csv', header= True, inferSchema=True)\n",
    "df= df.withColumn('id', row_number().over(Window.orderBy(monotonically_increasing_id())))"
   ]
  },
  {
   "cell_type": "code",
   "execution_count": 5,
   "metadata": {},
   "outputs": [
    {
     "name": "stdout",
     "output_type": "stream",
     "text": [
      "+---+------+------+--------+------+---------+-----------+---+\n",
      "|age|   sex|   bmi|children|smoker|   region|    charges| id|\n",
      "+---+------+------+--------+------+---------+-----------+---+\n",
      "| 19|female|  27.9|       0|   yes|southwest|  16884.924|  1|\n",
      "| 18|  male| 33.77|       1|    no|southeast|  1725.5523|  2|\n",
      "| 28|  male|  33.0|       3|    no|southeast|   4449.462|  3|\n",
      "| 33|  male|22.705|       0|    no|northwest|21984.47061|  4|\n",
      "| 32|  male| 28.88|       0|    no|northwest|  3866.8552|  5|\n",
      "| 31|female| 25.74|       0|    no|southeast|  3756.6216|  6|\n",
      "| 46|female| 33.44|       1|    no|southeast|  8240.5896|  7|\n",
      "| 37|female| 27.74|       3|    no|northwest|  7281.5056|  8|\n",
      "| 37|  male| 29.83|       2|    no|northeast|  6406.4107|  9|\n",
      "| 60|female| 25.84|       0|    no|northwest|28923.13692| 10|\n",
      "| 25|  male| 26.22|       0|    no|northeast|  2721.3208| 11|\n",
      "| 62|female| 26.29|       0|   yes|southeast| 27808.7251| 12|\n",
      "| 23|  male|  34.4|       0|    no|southwest|   1826.843| 13|\n",
      "| 56|female| 39.82|       0|    no|southeast| 11090.7178| 14|\n",
      "| 27|  male| 42.13|       0|   yes|southeast| 39611.7577| 15|\n",
      "| 19|  male|  24.6|       1|    no|southwest|   1837.237| 16|\n",
      "| 52|female| 30.78|       1|    no|northeast| 10797.3362| 17|\n",
      "| 23|  male|23.845|       0|    no|northeast| 2395.17155| 18|\n",
      "| 56|  male|  40.3|       0|    no|southwest|  10602.385| 19|\n",
      "| 30|  male|  35.3|       0|   yes|southwest|  36837.467| 20|\n",
      "+---+------+------+--------+------+---------+-----------+---+\n",
      "only showing top 20 rows\n",
      "\n"
     ]
    }
   ],
   "source": [
    "#Rows and Columns in the dataset\n",
    "\n",
    "df.show()"
   ]
  },
  {
   "cell_type": "code",
   "execution_count": 6,
   "metadata": {},
   "outputs": [
    {
     "name": "stdout",
     "output_type": "stream",
     "text": [
      "1338 , 8\n"
     ]
    }
   ],
   "source": [
    "#Number of rows and columns\n",
    "\n",
    "print(df.count(),\",\", len(df.columns))"
   ]
  },
  {
   "cell_type": "code",
   "execution_count": 7,
   "metadata": {},
   "outputs": [
    {
     "name": "stdout",
     "output_type": "stream",
     "text": [
      "root\n",
      " |-- age: integer (nullable = true)\n",
      " |-- sex: string (nullable = true)\n",
      " |-- bmi: double (nullable = true)\n",
      " |-- children: integer (nullable = true)\n",
      " |-- smoker: string (nullable = true)\n",
      " |-- region: string (nullable = true)\n",
      " |-- charges: double (nullable = true)\n",
      " |-- id: integer (nullable = true)\n",
      "\n"
     ]
    }
   ],
   "source": [
    "#Column description\n",
    "\n",
    "df.printSchema()"
   ]
  },
  {
   "cell_type": "markdown",
   "metadata": {},
   "source": [
    "### Data Exploration & Pre-processing"
   ]
  },
  {
   "cell_type": "code",
   "execution_count": 8,
   "metadata": {},
   "outputs": [
    {
     "name": "stdout",
     "output_type": "stream",
     "text": [
      "1338 , 8\n",
      "1338 , 8\n"
     ]
    }
   ],
   "source": [
    "#Check for duplicates and null values\n",
    "\n",
    "df=df.dropDuplicates()\n",
    "print(df.count(),\",\", len(df.columns))\n",
    "df=df.na.drop()\n",
    "print(df.count(),\",\", len(df.columns))"
   ]
  },
  {
   "cell_type": "code",
   "execution_count": 9,
   "metadata": {},
   "outputs": [
    {
     "data": {
      "text/plain": [
       "DataFrame[summary: string, age: string, sex: string, bmi: string, children: string, smoker: string, region: string, charges: string, id: string]"
      ]
     },
     "execution_count": 9,
     "metadata": {},
     "output_type": "execute_result"
    }
   ],
   "source": [
    "#Column desciption\n",
    "\n",
    "df.describe()"
   ]
  },
  {
   "cell_type": "code",
   "execution_count": 10,
   "metadata": {},
   "outputs": [
    {
     "name": "stdout",
     "output_type": "stream",
     "text": [
      "+-------+------------------+------+------------------+-----------------+------+---------+------------------+------------------+\n",
      "|summary|               age|   sex|               bmi|         children|smoker|   region|           charges|                id|\n",
      "+-------+------------------+------+------------------+-----------------+------+---------+------------------+------------------+\n",
      "|  count|              1338|  1338|              1338|             1338|  1338|     1338|              1338|              1338|\n",
      "|   mean| 39.20702541106129|  null|30.663396860986538|  1.0949177877429|  null|     null|13270.422265141257|             669.5|\n",
      "| stddev|14.049960379216147|  null| 6.098186911679012|1.205492739781914|  null|     null|12110.011236693992|386.39164069632767|\n",
      "|    min|                18|female|             15.96|                0|    no|northeast|         1121.8739|                 1|\n",
      "|    25%|                27|  null|             26.29|                0|  null|     null|         4738.2682|               335|\n",
      "|    50%|                39|  null|              30.4|                1|  null|     null|         9377.9047|               669|\n",
      "|    75%|                51|  null|              34.7|                2|  null|     null|       16657.71745|              1004|\n",
      "|    max|                64|  male|             53.13|                5|   yes|southwest|       63770.42801|              1338|\n",
      "+-------+------------------+------+------------------+-----------------+------+---------+------------------+------------------+\n",
      "\n"
     ]
    }
   ],
   "source": [
    "#Data Statistics\n",
    "\n",
    "df.summary().show()"
   ]
  },
  {
   "cell_type": "code",
   "execution_count": 11,
   "metadata": {},
   "outputs": [
    {
     "data": {
      "text/html": [
       "<div>\n",
       "<style scoped>\n",
       "    .dataframe tbody tr th:only-of-type {\n",
       "        vertical-align: middle;\n",
       "    }\n",
       "\n",
       "    .dataframe tbody tr th {\n",
       "        vertical-align: top;\n",
       "    }\n",
       "\n",
       "    .dataframe thead th {\n",
       "        text-align: right;\n",
       "    }\n",
       "</style>\n",
       "<table border=\"1\" class=\"dataframe\">\n",
       "  <thead>\n",
       "    <tr style=\"text-align: right;\">\n",
       "      <th></th>\n",
       "      <th>0</th>\n",
       "      <th>1</th>\n",
       "      <th>2</th>\n",
       "      <th>3</th>\n",
       "      <th>4</th>\n",
       "    </tr>\n",
       "  </thead>\n",
       "  <tbody>\n",
       "    <tr>\n",
       "      <th>summary</th>\n",
       "      <td>count</td>\n",
       "      <td>mean</td>\n",
       "      <td>stddev</td>\n",
       "      <td>min</td>\n",
       "      <td>max</td>\n",
       "    </tr>\n",
       "    <tr>\n",
       "      <th>age</th>\n",
       "      <td>1338</td>\n",
       "      <td>39.20702541106129</td>\n",
       "      <td>14.049960379216147</td>\n",
       "      <td>18</td>\n",
       "      <td>64</td>\n",
       "    </tr>\n",
       "    <tr>\n",
       "      <th>sex</th>\n",
       "      <td>1338</td>\n",
       "      <td>None</td>\n",
       "      <td>None</td>\n",
       "      <td>female</td>\n",
       "      <td>male</td>\n",
       "    </tr>\n",
       "    <tr>\n",
       "      <th>bmi</th>\n",
       "      <td>1338</td>\n",
       "      <td>30.663396860986538</td>\n",
       "      <td>6.098186911679012</td>\n",
       "      <td>15.96</td>\n",
       "      <td>53.13</td>\n",
       "    </tr>\n",
       "    <tr>\n",
       "      <th>children</th>\n",
       "      <td>1338</td>\n",
       "      <td>1.0949177877429</td>\n",
       "      <td>1.205492739781914</td>\n",
       "      <td>0</td>\n",
       "      <td>5</td>\n",
       "    </tr>\n",
       "    <tr>\n",
       "      <th>smoker</th>\n",
       "      <td>1338</td>\n",
       "      <td>None</td>\n",
       "      <td>None</td>\n",
       "      <td>no</td>\n",
       "      <td>yes</td>\n",
       "    </tr>\n",
       "    <tr>\n",
       "      <th>region</th>\n",
       "      <td>1338</td>\n",
       "      <td>None</td>\n",
       "      <td>None</td>\n",
       "      <td>northeast</td>\n",
       "      <td>southwest</td>\n",
       "    </tr>\n",
       "    <tr>\n",
       "      <th>charges</th>\n",
       "      <td>1338</td>\n",
       "      <td>13270.422265141257</td>\n",
       "      <td>12110.011236693992</td>\n",
       "      <td>1121.8739</td>\n",
       "      <td>63770.42801</td>\n",
       "    </tr>\n",
       "    <tr>\n",
       "      <th>id</th>\n",
       "      <td>1338</td>\n",
       "      <td>669.5</td>\n",
       "      <td>386.39164069632767</td>\n",
       "      <td>1</td>\n",
       "      <td>1338</td>\n",
       "    </tr>\n",
       "  </tbody>\n",
       "</table>\n",
       "</div>"
      ],
      "text/plain": [
       "              0                   1                   2          3  \\\n",
       "summary   count                mean              stddev        min   \n",
       "age        1338   39.20702541106129  14.049960379216147         18   \n",
       "sex        1338                None                None     female   \n",
       "bmi        1338  30.663396860986538   6.098186911679012      15.96   \n",
       "children   1338     1.0949177877429   1.205492739781914          0   \n",
       "smoker     1338                None                None         no   \n",
       "region     1338                None                None  northeast   \n",
       "charges    1338  13270.422265141257  12110.011236693992  1121.8739   \n",
       "id         1338               669.5  386.39164069632767          1   \n",
       "\n",
       "                    4  \n",
       "summary           max  \n",
       "age                64  \n",
       "sex              male  \n",
       "bmi             53.13  \n",
       "children            5  \n",
       "smoker            yes  \n",
       "region      southwest  \n",
       "charges   63770.42801  \n",
       "id               1338  "
      ]
     },
     "execution_count": 11,
     "metadata": {},
     "output_type": "execute_result"
    }
   ],
   "source": [
    "df.describe().toPandas().transpose()"
   ]
  },
  {
   "cell_type": "code",
   "execution_count": 12,
   "metadata": {},
   "outputs": [],
   "source": [
    "df=df.toPandas()"
   ]
  },
  {
   "cell_type": "markdown",
   "metadata": {},
   "source": [
    "#### Adding Features"
   ]
  },
  {
   "cell_type": "code",
   "execution_count": 13,
   "metadata": {},
   "outputs": [
    {
     "data": {
      "text/html": [
       "<div>\n",
       "<style scoped>\n",
       "    .dataframe tbody tr th:only-of-type {\n",
       "        vertical-align: middle;\n",
       "    }\n",
       "\n",
       "    .dataframe tbody tr th {\n",
       "        vertical-align: top;\n",
       "    }\n",
       "\n",
       "    .dataframe thead th {\n",
       "        text-align: right;\n",
       "    }\n",
       "</style>\n",
       "<table border=\"1\" class=\"dataframe\">\n",
       "  <thead>\n",
       "    <tr style=\"text-align: right;\">\n",
       "      <th></th>\n",
       "      <th>age</th>\n",
       "      <th>sex</th>\n",
       "      <th>bmi</th>\n",
       "      <th>children</th>\n",
       "      <th>smoker</th>\n",
       "      <th>region</th>\n",
       "      <th>charges</th>\n",
       "      <th>id</th>\n",
       "      <th>bmi_class</th>\n",
       "    </tr>\n",
       "  </thead>\n",
       "  <tbody>\n",
       "    <tr>\n",
       "      <th>0</th>\n",
       "      <td>19</td>\n",
       "      <td>female</td>\n",
       "      <td>27.900</td>\n",
       "      <td>0</td>\n",
       "      <td>yes</td>\n",
       "      <td>southwest</td>\n",
       "      <td>16884.92400</td>\n",
       "      <td>1</td>\n",
       "      <td>Overweight</td>\n",
       "    </tr>\n",
       "    <tr>\n",
       "      <th>1</th>\n",
       "      <td>18</td>\n",
       "      <td>male</td>\n",
       "      <td>33.770</td>\n",
       "      <td>1</td>\n",
       "      <td>no</td>\n",
       "      <td>southeast</td>\n",
       "      <td>1725.55230</td>\n",
       "      <td>2</td>\n",
       "      <td>Obese</td>\n",
       "    </tr>\n",
       "    <tr>\n",
       "      <th>2</th>\n",
       "      <td>28</td>\n",
       "      <td>male</td>\n",
       "      <td>33.000</td>\n",
       "      <td>3</td>\n",
       "      <td>no</td>\n",
       "      <td>southeast</td>\n",
       "      <td>4449.46200</td>\n",
       "      <td>3</td>\n",
       "      <td>Obese</td>\n",
       "    </tr>\n",
       "    <tr>\n",
       "      <th>3</th>\n",
       "      <td>33</td>\n",
       "      <td>male</td>\n",
       "      <td>22.705</td>\n",
       "      <td>0</td>\n",
       "      <td>no</td>\n",
       "      <td>northwest</td>\n",
       "      <td>21984.47061</td>\n",
       "      <td>4</td>\n",
       "      <td>Normal</td>\n",
       "    </tr>\n",
       "    <tr>\n",
       "      <th>4</th>\n",
       "      <td>32</td>\n",
       "      <td>male</td>\n",
       "      <td>28.880</td>\n",
       "      <td>0</td>\n",
       "      <td>no</td>\n",
       "      <td>northwest</td>\n",
       "      <td>3866.85520</td>\n",
       "      <td>5</td>\n",
       "      <td>Overweight</td>\n",
       "    </tr>\n",
       "  </tbody>\n",
       "</table>\n",
       "</div>"
      ],
      "text/plain": [
       "   age     sex     bmi  children smoker     region      charges  id  \\\n",
       "0   19  female  27.900         0    yes  southwest  16884.92400   1   \n",
       "1   18    male  33.770         1     no  southeast   1725.55230   2   \n",
       "2   28    male  33.000         3     no  southeast   4449.46200   3   \n",
       "3   33    male  22.705         0     no  northwest  21984.47061   4   \n",
       "4   32    male  28.880         0     no  northwest   3866.85520   5   \n",
       "\n",
       "    bmi_class  \n",
       "0  Overweight  \n",
       "1       Obese  \n",
       "2       Obese  \n",
       "3      Normal  \n",
       "4  Overweight  "
      ]
     },
     "execution_count": 13,
     "metadata": {},
     "output_type": "execute_result"
    }
   ],
   "source": [
    "import numpy as np\n",
    "\n",
    "# create a list of our conditions\n",
    "conditions = [\n",
    "    (df['bmi'] < 18.5),\n",
    "    (df['bmi'] >= 18.5) & (df['bmi'] <= 24.9),\n",
    "    (df['bmi'] >= 25) & (df['bmi'] <= 29.9),\n",
    "    (df['bmi'] >= 30)\n",
    "    ]\n",
    "\n",
    "# create a list of the values we want to assign for each condition\n",
    "values = ['Underweight', 'Normal', 'Overweight', 'Obese']\n",
    "\n",
    "# create a new column and use np.select to assign values to it using our lists as arguments\n",
    "df['bmi_class'] = np.select(conditions, values)\n",
    "\n",
    "# display updated DataFrame\n",
    "df.head()"
   ]
  },
  {
   "cell_type": "code",
   "execution_count": 14,
   "metadata": {},
   "outputs": [
    {
     "data": {
      "text/html": [
       "<div>\n",
       "<style scoped>\n",
       "    .dataframe tbody tr th:only-of-type {\n",
       "        vertical-align: middle;\n",
       "    }\n",
       "\n",
       "    .dataframe tbody tr th {\n",
       "        vertical-align: top;\n",
       "    }\n",
       "\n",
       "    .dataframe thead th {\n",
       "        text-align: right;\n",
       "    }\n",
       "</style>\n",
       "<table border=\"1\" class=\"dataframe\">\n",
       "  <thead>\n",
       "    <tr style=\"text-align: right;\">\n",
       "      <th></th>\n",
       "      <th>age</th>\n",
       "      <th>sex</th>\n",
       "      <th>bmi</th>\n",
       "      <th>children</th>\n",
       "      <th>smoker</th>\n",
       "      <th>region</th>\n",
       "      <th>charges</th>\n",
       "      <th>id</th>\n",
       "      <th>bmi_class</th>\n",
       "      <th>age_class</th>\n",
       "    </tr>\n",
       "  </thead>\n",
       "  <tbody>\n",
       "    <tr>\n",
       "      <th>0</th>\n",
       "      <td>19</td>\n",
       "      <td>female</td>\n",
       "      <td>27.900</td>\n",
       "      <td>0</td>\n",
       "      <td>yes</td>\n",
       "      <td>southwest</td>\n",
       "      <td>16884.92400</td>\n",
       "      <td>1</td>\n",
       "      <td>Overweight</td>\n",
       "      <td>Young Adult</td>\n",
       "    </tr>\n",
       "    <tr>\n",
       "      <th>1</th>\n",
       "      <td>18</td>\n",
       "      <td>male</td>\n",
       "      <td>33.770</td>\n",
       "      <td>1</td>\n",
       "      <td>no</td>\n",
       "      <td>southeast</td>\n",
       "      <td>1725.55230</td>\n",
       "      <td>2</td>\n",
       "      <td>Obese</td>\n",
       "      <td>Young Adult</td>\n",
       "    </tr>\n",
       "    <tr>\n",
       "      <th>2</th>\n",
       "      <td>28</td>\n",
       "      <td>male</td>\n",
       "      <td>33.000</td>\n",
       "      <td>3</td>\n",
       "      <td>no</td>\n",
       "      <td>southeast</td>\n",
       "      <td>4449.46200</td>\n",
       "      <td>3</td>\n",
       "      <td>Obese</td>\n",
       "      <td>Middle-Aged</td>\n",
       "    </tr>\n",
       "    <tr>\n",
       "      <th>3</th>\n",
       "      <td>33</td>\n",
       "      <td>male</td>\n",
       "      <td>22.705</td>\n",
       "      <td>0</td>\n",
       "      <td>no</td>\n",
       "      <td>northwest</td>\n",
       "      <td>21984.47061</td>\n",
       "      <td>4</td>\n",
       "      <td>Normal</td>\n",
       "      <td>Middle-Aged</td>\n",
       "    </tr>\n",
       "    <tr>\n",
       "      <th>4</th>\n",
       "      <td>32</td>\n",
       "      <td>male</td>\n",
       "      <td>28.880</td>\n",
       "      <td>0</td>\n",
       "      <td>no</td>\n",
       "      <td>northwest</td>\n",
       "      <td>3866.85520</td>\n",
       "      <td>5</td>\n",
       "      <td>Overweight</td>\n",
       "      <td>Middle-Aged</td>\n",
       "    </tr>\n",
       "  </tbody>\n",
       "</table>\n",
       "</div>"
      ],
      "text/plain": [
       "   age     sex     bmi  children smoker     region      charges  id  \\\n",
       "0   19  female  27.900         0    yes  southwest  16884.92400   1   \n",
       "1   18    male  33.770         1     no  southeast   1725.55230   2   \n",
       "2   28    male  33.000         3     no  southeast   4449.46200   3   \n",
       "3   33    male  22.705         0     no  northwest  21984.47061   4   \n",
       "4   32    male  28.880         0     no  northwest   3866.85520   5   \n",
       "\n",
       "    bmi_class    age_class  \n",
       "0  Overweight  Young Adult  \n",
       "1       Obese  Young Adult  \n",
       "2       Obese  Middle-Aged  \n",
       "3      Normal  Middle-Aged  \n",
       "4  Overweight  Middle-Aged  "
      ]
     },
     "execution_count": 14,
     "metadata": {},
     "output_type": "execute_result"
    }
   ],
   "source": [
    "# create a list of our conditions\n",
    "conditions = [\n",
    "    (df['age'] < 18),\n",
    "    (df['age'] >= 18) & (df['age'] <= 24),\n",
    "    (df['age'] >= 25) & (df['age'] <= 45),\n",
    "    (df['age'] > 45)\n",
    "    ]\n",
    "\n",
    "# create a list of the values we want to assign for each condition\n",
    "values = ['Child', 'Young Adult', 'Middle-Aged', 'Aged']\n",
    "\n",
    "# create a new column and use np.select to assign values to it using our lists as arguments\n",
    "df['age_class'] = np.select(conditions, values)\n",
    "\n",
    "# display updated DataFrame\n",
    "df.head()"
   ]
  },
  {
   "cell_type": "code",
   "execution_count": 15,
   "metadata": {},
   "outputs": [],
   "source": [
    "df=spark.createDataFrame(df)"
   ]
  },
  {
   "cell_type": "markdown",
   "metadata": {},
   "source": [
    "#### Categorical Encoding"
   ]
  },
  {
   "cell_type": "code",
   "execution_count": 16,
   "metadata": {},
   "outputs": [
    {
     "name": "stdout",
     "output_type": "stream",
     "text": [
      "+---+------+------+--------+------+---------+-----------+---+----------+-----------+-----------+--------------+--------------+-----------+-----------+-------------+-------------+-------------+-------------+-------------+\n",
      "|age|   sex|   bmi|children|smoker|   region|    charges| id| bmi_class|  age_class|sex_indexer|smoker_indexer|region_indexer|bmi_indexer|age_indexer|      sex_ohe|   smoker_ohe|   region_ohe|      bmi_ohe|      age_ohe|\n",
      "+---+------+------+--------+------+---------+-----------+---+----------+-----------+-----------+--------------+--------------+-----------+-----------+-------------+-------------+-------------+-------------+-------------+\n",
      "| 19|female|  27.9|       0|   yes|southwest|  16884.924|  1|Overweight|Young Adult|        1.0|           1.0|           2.0|        1.0|        2.0|    (1,[],[])|    (1,[],[])|(3,[2],[1.0])|(4,[1],[1.0])|    (2,[],[])|\n",
      "| 18|  male| 33.77|       1|    no|southeast|  1725.5523|  2|     Obese|Young Adult|        0.0|           0.0|           0.0|        0.0|        2.0|(1,[0],[1.0])|(1,[0],[1.0])|(3,[0],[1.0])|(4,[0],[1.0])|    (2,[],[])|\n",
      "| 28|  male|  33.0|       3|    no|southeast|   4449.462|  3|     Obese|Middle-Aged|        0.0|           0.0|           0.0|        0.0|        0.0|(1,[0],[1.0])|(1,[0],[1.0])|(3,[0],[1.0])|(4,[0],[1.0])|(2,[0],[1.0])|\n",
      "| 33|  male|22.705|       0|    no|northwest|21984.47061|  4|    Normal|Middle-Aged|        0.0|           0.0|           1.0|        2.0|        0.0|(1,[0],[1.0])|(1,[0],[1.0])|(3,[1],[1.0])|(4,[2],[1.0])|(2,[0],[1.0])|\n",
      "| 32|  male| 28.88|       0|    no|northwest|  3866.8552|  5|Overweight|Middle-Aged|        0.0|           0.0|           1.0|        1.0|        0.0|(1,[0],[1.0])|(1,[0],[1.0])|(3,[1],[1.0])|(4,[1],[1.0])|(2,[0],[1.0])|\n",
      "| 31|female| 25.74|       0|    no|southeast|  3756.6216|  6|Overweight|Middle-Aged|        1.0|           0.0|           0.0|        1.0|        0.0|    (1,[],[])|(1,[0],[1.0])|(3,[0],[1.0])|(4,[1],[1.0])|(2,[0],[1.0])|\n",
      "| 46|female| 33.44|       1|    no|southeast|  8240.5896|  7|     Obese|       Aged|        1.0|           0.0|           0.0|        0.0|        1.0|    (1,[],[])|(1,[0],[1.0])|(3,[0],[1.0])|(4,[0],[1.0])|(2,[1],[1.0])|\n",
      "| 37|female| 27.74|       3|    no|northwest|  7281.5056|  8|Overweight|Middle-Aged|        1.0|           0.0|           1.0|        1.0|        0.0|    (1,[],[])|(1,[0],[1.0])|(3,[1],[1.0])|(4,[1],[1.0])|(2,[0],[1.0])|\n",
      "| 37|  male| 29.83|       2|    no|northeast|  6406.4107|  9|Overweight|Middle-Aged|        0.0|           0.0|           3.0|        1.0|        0.0|(1,[0],[1.0])|(1,[0],[1.0])|    (3,[],[])|(4,[1],[1.0])|(2,[0],[1.0])|\n",
      "| 60|female| 25.84|       0|    no|northwest|28923.13692| 10|Overweight|       Aged|        1.0|           0.0|           1.0|        1.0|        1.0|    (1,[],[])|(1,[0],[1.0])|(3,[1],[1.0])|(4,[1],[1.0])|(2,[1],[1.0])|\n",
      "| 25|  male| 26.22|       0|    no|northeast|  2721.3208| 11|Overweight|Middle-Aged|        0.0|           0.0|           3.0|        1.0|        0.0|(1,[0],[1.0])|(1,[0],[1.0])|    (3,[],[])|(4,[1],[1.0])|(2,[0],[1.0])|\n",
      "| 62|female| 26.29|       0|   yes|southeast| 27808.7251| 12|Overweight|       Aged|        1.0|           1.0|           0.0|        1.0|        1.0|    (1,[],[])|    (1,[],[])|(3,[0],[1.0])|(4,[1],[1.0])|(2,[1],[1.0])|\n",
      "| 23|  male|  34.4|       0|    no|southwest|   1826.843| 13|     Obese|Young Adult|        0.0|           0.0|           2.0|        0.0|        2.0|(1,[0],[1.0])|(1,[0],[1.0])|(3,[2],[1.0])|(4,[0],[1.0])|    (2,[],[])|\n",
      "| 56|female| 39.82|       0|    no|southeast| 11090.7178| 14|     Obese|       Aged|        1.0|           0.0|           0.0|        0.0|        1.0|    (1,[],[])|(1,[0],[1.0])|(3,[0],[1.0])|(4,[0],[1.0])|(2,[1],[1.0])|\n",
      "| 27|  male| 42.13|       0|   yes|southeast| 39611.7577| 15|     Obese|Middle-Aged|        0.0|           1.0|           0.0|        0.0|        0.0|(1,[0],[1.0])|    (1,[],[])|(3,[0],[1.0])|(4,[0],[1.0])|(2,[0],[1.0])|\n",
      "| 19|  male|  24.6|       1|    no|southwest|   1837.237| 16|    Normal|Young Adult|        0.0|           0.0|           2.0|        2.0|        2.0|(1,[0],[1.0])|(1,[0],[1.0])|(3,[2],[1.0])|(4,[2],[1.0])|    (2,[],[])|\n",
      "| 52|female| 30.78|       1|    no|northeast| 10797.3362| 17|     Obese|       Aged|        1.0|           0.0|           3.0|        0.0|        1.0|    (1,[],[])|(1,[0],[1.0])|    (3,[],[])|(4,[0],[1.0])|(2,[1],[1.0])|\n",
      "| 23|  male|23.845|       0|    no|northeast| 2395.17155| 18|    Normal|Young Adult|        0.0|           0.0|           3.0|        2.0|        2.0|(1,[0],[1.0])|(1,[0],[1.0])|    (3,[],[])|(4,[2],[1.0])|    (2,[],[])|\n",
      "| 56|  male|  40.3|       0|    no|southwest|  10602.385| 19|     Obese|       Aged|        0.0|           0.0|           2.0|        0.0|        1.0|(1,[0],[1.0])|(1,[0],[1.0])|(3,[2],[1.0])|(4,[0],[1.0])|(2,[1],[1.0])|\n",
      "| 30|  male|  35.3|       0|   yes|southwest|  36837.467| 20|     Obese|Middle-Aged|        0.0|           1.0|           2.0|        0.0|        0.0|(1,[0],[1.0])|    (1,[],[])|(3,[2],[1.0])|(4,[0],[1.0])|(2,[0],[1.0])|\n",
      "+---+------+------+--------+------+---------+-----------+---+----------+-----------+-----------+--------------+--------------+-----------+-----------+-------------+-------------+-------------+-------------+-------------+\n",
      "only showing top 20 rows\n",
      "\n"
     ]
    }
   ],
   "source": [
    "from pyspark.ml.feature import OneHotEncoder as ohe\n",
    "from pyspark.ml.feature import StringIndexer\n",
    "\n",
    "sex_indexer= StringIndexer(inputCol='sex', outputCol= 'sex_indexer')\n",
    "bmi_indexer= StringIndexer(inputCol='bmi_class', outputCol= 'bmi_indexer')\n",
    "age_indexer= StringIndexer(inputCol='age_class', outputCol= 'age_indexer')\n",
    "region_indexer= StringIndexer(inputCol='region', outputCol= 'region_indexer')\n",
    "smoker_indexer= StringIndexer(inputCol='smoker', outputCol= 'smoker_indexer')\n",
    "df=sex_indexer.fit(df).transform(df)\n",
    "df=smoker_indexer.fit(df).transform(df)\n",
    "df=region_indexer.fit(df).transform(df)\n",
    "df=bmi_indexer.fit(df).transform(df)\n",
    "df=age_indexer.fit(df).transform(df)\n",
    "\n",
    "sex_ohe= ohe(inputCol='sex_indexer', outputCol= 'sex_ohe')\n",
    "smoker_ohe= ohe(inputCol='smoker_indexer', outputCol= 'smoker_ohe')\n",
    "region_ohe= ohe(inputCol='region_indexer', outputCol= 'region_ohe')\n",
    "bmi_ohe= ohe(inputCol='bmi_indexer', outputCol= 'bmi_ohe')\n",
    "age_ohe= ohe(inputCol='age_indexer', outputCol= 'age_ohe')\n",
    "df= sex_ohe.fit(df).transform(df)\n",
    "df=smoker_ohe.fit(df).transform(df)\n",
    "df=region_ohe.fit(df).transform(df)\n",
    "df=bmi_ohe.fit(df).transform(df)\n",
    "df=age_ohe.fit(df).transform(df)\n",
    "\n",
    "df.show()"
   ]
  },
  {
   "cell_type": "code",
   "execution_count": 17,
   "metadata": {},
   "outputs": [
    {
     "name": "stdout",
     "output_type": "stream",
     "text": [
      "+---+------+--------+-----------+---+----------+-----------+-------------+-------------+-------------+-------------+-------------+\n",
      "|age|   bmi|children|    charges| id| bmi_class|  age_class|      sex_ohe|   smoker_ohe|   region_ohe|      bmi_ohe|      age_ohe|\n",
      "+---+------+--------+-----------+---+----------+-----------+-------------+-------------+-------------+-------------+-------------+\n",
      "| 19|  27.9|       0|  16884.924|  1|Overweight|Young Adult|    (1,[],[])|    (1,[],[])|(3,[2],[1.0])|(4,[1],[1.0])|    (2,[],[])|\n",
      "| 18| 33.77|       1|  1725.5523|  2|     Obese|Young Adult|(1,[0],[1.0])|(1,[0],[1.0])|(3,[0],[1.0])|(4,[0],[1.0])|    (2,[],[])|\n",
      "| 28|  33.0|       3|   4449.462|  3|     Obese|Middle-Aged|(1,[0],[1.0])|(1,[0],[1.0])|(3,[0],[1.0])|(4,[0],[1.0])|(2,[0],[1.0])|\n",
      "| 33|22.705|       0|21984.47061|  4|    Normal|Middle-Aged|(1,[0],[1.0])|(1,[0],[1.0])|(3,[1],[1.0])|(4,[2],[1.0])|(2,[0],[1.0])|\n",
      "| 32| 28.88|       0|  3866.8552|  5|Overweight|Middle-Aged|(1,[0],[1.0])|(1,[0],[1.0])|(3,[1],[1.0])|(4,[1],[1.0])|(2,[0],[1.0])|\n",
      "| 31| 25.74|       0|  3756.6216|  6|Overweight|Middle-Aged|    (1,[],[])|(1,[0],[1.0])|(3,[0],[1.0])|(4,[1],[1.0])|(2,[0],[1.0])|\n",
      "| 46| 33.44|       1|  8240.5896|  7|     Obese|       Aged|    (1,[],[])|(1,[0],[1.0])|(3,[0],[1.0])|(4,[0],[1.0])|(2,[1],[1.0])|\n",
      "| 37| 27.74|       3|  7281.5056|  8|Overweight|Middle-Aged|    (1,[],[])|(1,[0],[1.0])|(3,[1],[1.0])|(4,[1],[1.0])|(2,[0],[1.0])|\n",
      "| 37| 29.83|       2|  6406.4107|  9|Overweight|Middle-Aged|(1,[0],[1.0])|(1,[0],[1.0])|    (3,[],[])|(4,[1],[1.0])|(2,[0],[1.0])|\n",
      "| 60| 25.84|       0|28923.13692| 10|Overweight|       Aged|    (1,[],[])|(1,[0],[1.0])|(3,[1],[1.0])|(4,[1],[1.0])|(2,[1],[1.0])|\n",
      "| 25| 26.22|       0|  2721.3208| 11|Overweight|Middle-Aged|(1,[0],[1.0])|(1,[0],[1.0])|    (3,[],[])|(4,[1],[1.0])|(2,[0],[1.0])|\n",
      "| 62| 26.29|       0| 27808.7251| 12|Overweight|       Aged|    (1,[],[])|    (1,[],[])|(3,[0],[1.0])|(4,[1],[1.0])|(2,[1],[1.0])|\n",
      "| 23|  34.4|       0|   1826.843| 13|     Obese|Young Adult|(1,[0],[1.0])|(1,[0],[1.0])|(3,[2],[1.0])|(4,[0],[1.0])|    (2,[],[])|\n",
      "| 56| 39.82|       0| 11090.7178| 14|     Obese|       Aged|    (1,[],[])|(1,[0],[1.0])|(3,[0],[1.0])|(4,[0],[1.0])|(2,[1],[1.0])|\n",
      "| 27| 42.13|       0| 39611.7577| 15|     Obese|Middle-Aged|(1,[0],[1.0])|    (1,[],[])|(3,[0],[1.0])|(4,[0],[1.0])|(2,[0],[1.0])|\n",
      "| 19|  24.6|       1|   1837.237| 16|    Normal|Young Adult|(1,[0],[1.0])|(1,[0],[1.0])|(3,[2],[1.0])|(4,[2],[1.0])|    (2,[],[])|\n",
      "| 52| 30.78|       1| 10797.3362| 17|     Obese|       Aged|    (1,[],[])|(1,[0],[1.0])|    (3,[],[])|(4,[0],[1.0])|(2,[1],[1.0])|\n",
      "| 23|23.845|       0| 2395.17155| 18|    Normal|Young Adult|(1,[0],[1.0])|(1,[0],[1.0])|    (3,[],[])|(4,[2],[1.0])|    (2,[],[])|\n",
      "| 56|  40.3|       0|  10602.385| 19|     Obese|       Aged|(1,[0],[1.0])|(1,[0],[1.0])|(3,[2],[1.0])|(4,[0],[1.0])|(2,[1],[1.0])|\n",
      "| 30|  35.3|       0|  36837.467| 20|     Obese|Middle-Aged|(1,[0],[1.0])|    (1,[],[])|(3,[2],[1.0])|(4,[0],[1.0])|(2,[0],[1.0])|\n",
      "+---+------+--------+-----------+---+----------+-----------+-------------+-------------+-------------+-------------+-------------+\n",
      "only showing top 20 rows\n",
      "\n"
     ]
    }
   ],
   "source": [
    "df=df.drop('sex','region','smoker', 'sex_indexer', 'region_indexer', 'smoker_indexer', 'bmi_indexer', 'age_indexer')\n",
    "df.show()"
   ]
  },
  {
   "cell_type": "code",
   "execution_count": 18,
   "metadata": {},
   "outputs": [
    {
     "name": "stdout",
     "output_type": "stream",
     "text": [
      "root\n",
      " |-- age: long (nullable = true)\n",
      " |-- bmi: double (nullable = true)\n",
      " |-- children: long (nullable = true)\n",
      " |-- charges: double (nullable = true)\n",
      " |-- id: long (nullable = true)\n",
      " |-- bmi_class: string (nullable = true)\n",
      " |-- age_class: string (nullable = true)\n",
      " |-- sex_ohe: vector (nullable = true)\n",
      " |-- smoker_ohe: vector (nullable = true)\n",
      " |-- region_ohe: vector (nullable = true)\n",
      " |-- bmi_ohe: vector (nullable = true)\n",
      " |-- age_ohe: vector (nullable = true)\n",
      "\n"
     ]
    }
   ],
   "source": [
    "df.printSchema()"
   ]
  },
  {
   "cell_type": "code",
   "execution_count": 19,
   "metadata": {},
   "outputs": [],
   "source": [
    "cols= [c[0] for c in df.dtypes if c[1] != 'string']"
   ]
  },
  {
   "cell_type": "code",
   "execution_count": 20,
   "metadata": {},
   "outputs": [],
   "source": [
    "from pyspark.ml.feature import VectorAssembler\n",
    "from pyspark.ml.feature import MinMaxScaler\n",
    "from pyspark.ml import Pipeline"
   ]
  },
  {
   "cell_type": "code",
   "execution_count": 21,
   "metadata": {},
   "outputs": [],
   "source": [
    "vc= VectorAssembler(inputCols = ['children', 'sex_ohe','smoker_ohe','region_ohe','age_ohe','bmi_ohe'], outputCol= 'feature')\n",
    "\n",
    "df= vc.transform(df)\n",
    "\n"
   ]
  },
  {
   "cell_type": "code",
   "execution_count": 24,
   "metadata": {
    "scrolled": true
   },
   "outputs": [
    {
     "name": "stdout",
     "output_type": "stream",
     "text": [
      "+--------------------+-----------+\n",
      "|             feature|    charges|\n",
      "+--------------------+-----------+\n",
      "|(12,[5,9],[1.0,1.0])|  16884.924|\n",
      "|(12,[0,1,2,3,8],[...|  1725.5523|\n",
      "|(12,[0,1,2,3,6,8]...|   4449.462|\n",
      "|(12,[1,2,4,6,10],...|21984.47061|\n",
      "|(12,[1,2,4,6,9],[...|  3866.8552|\n",
      "|(12,[2,3,6,9],[1....|  3756.6216|\n",
      "|(12,[0,2,3,7,8],[...|  8240.5896|\n",
      "|(12,[0,2,4,6,9],[...|  7281.5056|\n",
      "|(12,[0,1,2,6,9],[...|  6406.4107|\n",
      "|(12,[2,4,7,9],[1....|28923.13692|\n",
      "|(12,[1,2,6,9],[1....|  2721.3208|\n",
      "|(12,[3,7,9],[1.0,...| 27808.7251|\n",
      "|(12,[1,2,5,8],[1....|   1826.843|\n",
      "|(12,[2,3,7,8],[1....| 11090.7178|\n",
      "|(12,[1,3,6,8],[1....| 39611.7577|\n",
      "|(12,[0,1,2,5,10],...|   1837.237|\n",
      "|(12,[0,2,7,8],[1....| 10797.3362|\n",
      "|(12,[1,2,10],[1.0...| 2395.17155|\n",
      "|(12,[1,2,5,7,8],[...|  10602.385|\n",
      "|(12,[1,5,6,8],[1....|  36837.467|\n",
      "+--------------------+-----------+\n",
      "only showing top 20 rows\n",
      "\n"
     ]
    }
   ],
   "source": [
    "df=df.select(['feature', 'charges'])\n",
    "df.show()"
   ]
  },
  {
   "cell_type": "markdown",
   "metadata": {},
   "source": [
    "#### Scaling"
   ]
  },
  {
   "cell_type": "code",
   "execution_count": 25,
   "metadata": {},
   "outputs": [],
   "source": [
    "ss = MinMaxScaler(inputCol='feature', outputCol='features')"
   ]
  },
  {
   "cell_type": "code",
   "execution_count": 28,
   "metadata": {},
   "outputs": [
    {
     "data": {
      "text/plain": [
       "PipelineModel_0da5d6f76bf0"
      ]
     },
     "execution_count": 28,
     "metadata": {},
     "output_type": "execute_result"
    }
   ],
   "source": [
    "pipe= Pipeline(stages= [ ss])\n",
    "pipe.fit(df)\n"
   ]
  },
  {
   "cell_type": "code",
   "execution_count": 29,
   "metadata": {},
   "outputs": [],
   "source": [
    "# Data splitting\n",
    "train, test= df.randomSplit([0.8,0.2], seed=123)"
   ]
  },
  {
   "cell_type": "code",
   "execution_count": 27,
   "metadata": {},
   "outputs": [],
   "source": [
    "from pyspark.ml.regression import LinearRegression, DecisionTreeRegressor, GBTRegressor, RandomForestRegressor"
   ]
  },
  {
   "cell_type": "code",
   "execution_count": 30,
   "metadata": {},
   "outputs": [
    {
     "name": "stdout",
     "output_type": "stream",
     "text": [
      "1083\n",
      "255\n"
     ]
    }
   ],
   "source": [
    "print(train.count())\n",
    "print(test.count())"
   ]
  },
  {
   "cell_type": "markdown",
   "metadata": {},
   "source": [
    "#### Linear Regression"
   ]
  },
  {
   "cell_type": "code",
   "execution_count": 33,
   "metadata": {},
   "outputs": [],
   "source": [
    "lr= LinearRegression(featuresCol='feature', labelCol='charges', maxIter= 25 )\n",
    "model= lr.fit(train)"
   ]
  },
  {
   "cell_type": "code",
   "execution_count": 34,
   "metadata": {},
   "outputs": [
    {
     "name": "stdout",
     "output_type": "stream",
     "text": [
      "coefficients: [496.27276201745985,-303.8436728010304,-24334.235129684588,-1129.5381780762286,-51.21377286285491,-1119.0480455052982,2614.437922206722,8343.73372071558,2649.8199702592824,-1253.2853210430226,-2202.6546231017605,-4315.3616512516255]\n",
      "Intercept: 28118.5111022702\n"
     ]
    }
   ],
   "source": [
    "print('coefficients: %s' % str(model.coefficients))\n",
    "print('Intercept: %s' % str(model.intercept))"
   ]
  },
  {
   "cell_type": "code",
   "execution_count": 35,
   "metadata": {},
   "outputs": [
    {
     "name": "stdout",
     "output_type": "stream",
     "text": [
      "Iterations: 1\n",
      "objectiveHistory [0.0]\n",
      "+-------------------+\n",
      "|          residuals|\n",
      "+-------------------+\n",
      "| -958.7533761918157|\n",
      "| -4144.492438209279|\n",
      "| -4654.508300226737|\n",
      "| -5095.580662244197|\n",
      "| 3013.5270171692273|\n",
      "|-1408.2022367181362|\n",
      "|-2846.0978987355957|\n",
      "|-2195.5054833983686|\n",
      "| 15062.660232566708|\n",
      "|-3771.4345539850938|\n",
      "| -3957.016643422653|\n",
      "|-2420.3194434226525|\n",
      "|  9756.331556577348|\n",
      "| -2515.851217457571|\n",
      "| 1102.7339598971148|\n",
      "| 420.98509787965213|\n",
      "|  672.9459978796522|\n",
      "| 12374.959347879652|\n",
      "|   1876.64454993839|\n",
      "|-4093.7912799140486|\n",
      "+-------------------+\n",
      "only showing top 20 rows\n",
      "\n",
      "RMSE: 6175.815276\n",
      "r2: 0.746509\n"
     ]
    }
   ],
   "source": [
    "summ= model.summary\n",
    "print('Iterations: %d' % summ.totalIterations)\n",
    "print('objectiveHistory %s' % str(summ.objectiveHistory))\n",
    "summ.residuals.show()\n",
    "print('RMSE: %f' % summ.rootMeanSquaredError)\n",
    "print('r2: %f' % summ.r2)"
   ]
  },
  {
   "cell_type": "code",
   "execution_count": 36,
   "metadata": {},
   "outputs": [
    {
     "name": "stdout",
     "output_type": "stream",
     "text": [
      "+------------------+-----------+--------------------+\n",
      "|        prediction|    charges|             feature|\n",
      "+------------------+-----------+--------------------+\n",
      "| 8607.697538209279|  7731.4271|(12,[0,1,2,3,6,8]...|\n",
      "|13840.720574700674| 11946.6259|(12,[0,1,2,3,7,8]...|\n",
      "| 1593.881562682789|  1719.4363|(12,[0,1,2,3,9],[...|\n",
      "| 9686.021943422653| 3877.30425|(12,[0,1,2,4,6,8]...|\n",
      "| 5286.643890102885|  4894.7533|(12,[0,1,2,4,6,9]...|\n",
      "| 4337.274588044147|  5125.2157|(12,[0,1,2,4,6,10...|\n",
      "| 2219.109427854888| 2803.69785|(12,[0,1,2,4,10],...|\n",
      "| -389.870362312442| 2775.19215|(12,[0,1,2,4,11],...|\n",
      "| 8618.187670780211|   7740.337|(12,[0,1,2,5,6,8]...|\n",
      "|  9114.46043279767|   4260.744|(12,[0,1,2,5,6,8]...|\n",
      "|  9114.46043279767|   5253.524|(12,[0,1,2,5,6,8]...|\n",
      "| 5211.355141495365|   3906.127|(12,[0,1,2,5,6,9]...|\n",
      "| 9948.105415969301|  10436.096|(12,[0,1,2,5,7,9]...|\n",
      "| 9240.962954268045| 4667.60765|(12,[0,1,2,6,8],[...|\n",
      "| 5834.130424983203|  6406.4107|(12,[0,1,2,6,9],[...|\n",
      "|15962.804276811825|11488.31695|(12,[0,1,2,7,8],[...|\n",
      "|30327.494745687145| 34303.1672|(12,[0,1,3,8],[2....|\n",
      "|30613.424543822395| 20745.9891|(12,[0,1,4,6,9],[...|\n",
      "|32456.150038447337|51194.55914|(12,[0,1,5,6,8],[...|\n",
      "| 35444.56481313537| 24869.8368|(12,[0,1,7,10],[3...|\n",
      "+------------------+-----------+--------------------+\n",
      "only showing top 20 rows\n",
      "\n"
     ]
    }
   ],
   "source": [
    "pred=model.transform(test)\n",
    "pred.select('prediction','charges','feature').show()"
   ]
  },
  {
   "cell_type": "code",
   "execution_count": 37,
   "metadata": {},
   "outputs": [
    {
     "name": "stdout",
     "output_type": "stream",
     "text": [
      "R squared= 0.715035\n",
      "rmse: 6080.53\n"
     ]
    }
   ],
   "source": [
    "from pyspark.ml.evaluation import RegressionEvaluator\n",
    "\n",
    "evalu= RegressionEvaluator(predictionCol='prediction', labelCol='charges', metricName='r2' )\n",
    "print('R squared= %g' %evalu.evaluate(pred))\n",
    "\n",
    "evalu1= RegressionEvaluator(predictionCol='prediction', labelCol='charges', metricName='rmse' )\n",
    "print(\"rmse: %g\" % evalu1.evaluate(pred))"
   ]
  },
  {
   "cell_type": "markdown",
   "metadata": {},
   "source": [
    "#### Gradient Boosting Trees "
   ]
  },
  {
   "cell_type": "code",
   "execution_count": 38,
   "metadata": {},
   "outputs": [
    {
     "name": "stdout",
     "output_type": "stream",
     "text": [
      "+------------------+-----------+--------------------+\n",
      "|        prediction|    charges|             feature|\n",
      "+------------------+-----------+--------------------+\n",
      "| 7586.900267521125|  7731.4271|(12,[0,1,2,3,6,8]...|\n",
      "|11722.666218566865| 11946.6259|(12,[0,1,2,3,7,8]...|\n",
      "|1501.6930165722945|  1719.4363|(12,[0,1,2,3,9],[...|\n",
      "| 8346.154314996125| 3877.30425|(12,[0,1,2,4,6,8]...|\n",
      "| 6189.682071815749|  4894.7533|(12,[0,1,2,4,6,9]...|\n",
      "| 6672.760334934017|  5125.2157|(12,[0,1,2,4,6,10...|\n",
      "|11008.423223095066| 2803.69785|(12,[0,1,2,4,10],...|\n",
      "|2954.5721176040292| 2775.19215|(12,[0,1,2,4,11],...|\n",
      "| 7759.265355582049|   7740.337|(12,[0,1,2,5,6,8]...|\n",
      "| 6607.658466084202|   4260.744|(12,[0,1,2,5,6,8]...|\n",
      "| 6607.658466084202|   5253.524|(12,[0,1,2,5,6,8]...|\n",
      "| 5974.832970920326|   3906.127|(12,[0,1,2,5,6,9]...|\n",
      "|13801.280384133808|  10436.096|(12,[0,1,2,5,7,9]...|\n",
      "| 6706.203482957495| 4667.60765|(12,[0,1,2,6,8],[...|\n",
      "|10234.229854928068|  6406.4107|(12,[0,1,2,6,9],[...|\n",
      "|13883.751303470717|11488.31695|(12,[0,1,2,7,8],[...|\n",
      "| 37036.55189611183| 34303.1672|(12,[0,1,3,8],[2....|\n",
      "|26790.663499012207| 20745.9891|(12,[0,1,4,6,9],[...|\n",
      "|34945.427796876465|51194.55914|(12,[0,1,5,6,8],[...|\n",
      "| 21970.19963253835| 24869.8368|(12,[0,1,7,10],[3...|\n",
      "+------------------+-----------+--------------------+\n",
      "only showing top 20 rows\n",
      "\n"
     ]
    }
   ],
   "source": [
    "gbt= GBTRegressor(featuresCol='feature', labelCol='charges', maxIter= 35 )\n",
    "model= gbt.fit(train)\n",
    "pred=model.transform(test)\n",
    "pred.select('prediction','charges','feature').show()"
   ]
  },
  {
   "cell_type": "code",
   "execution_count": 39,
   "metadata": {},
   "outputs": [
    {
     "name": "stdout",
     "output_type": "stream",
     "text": [
      "R squared= 0.814463\n",
      "rmse: 4906.37\n"
     ]
    }
   ],
   "source": [
    "from pyspark.ml.evaluation import RegressionEvaluator\n",
    "\n",
    "evalu= RegressionEvaluator(predictionCol='prediction', labelCol='charges', metricName='r2' )\n",
    "print('R squared= %g' %evalu.evaluate(pred))\n",
    "\n",
    "evalu1= RegressionEvaluator(predictionCol='prediction', labelCol='charges', metricName='rmse' )\n",
    "print(\"rmse: %g\" % evalu1.evaluate(pred))"
   ]
  },
  {
   "cell_type": "markdown",
   "metadata": {},
   "source": [
    "#### Decision Tree"
   ]
  },
  {
   "cell_type": "code",
   "execution_count": 40,
   "metadata": {},
   "outputs": [
    {
     "name": "stdout",
     "output_type": "stream",
     "text": [
      "+------------------+-----------+--------------------+\n",
      "|        prediction|    charges|             feature|\n",
      "+------------------+-----------+--------------------+\n",
      "| 7709.028154963504|  7731.4271|(12,[0,1,2,3,6,8]...|\n",
      "|12264.090589058822| 11946.6259|(12,[0,1,2,3,7,8]...|\n",
      "|2877.1080386419753|  1719.4363|(12,[0,1,2,3,9],[...|\n",
      "| 7709.028154963504| 3877.30425|(12,[0,1,2,4,6,8]...|\n",
      "| 6559.596719082569|  4894.7533|(12,[0,1,2,4,6,9]...|\n",
      "| 6559.596719082569|  5125.2157|(12,[0,1,2,4,6,10...|\n",
      "|       11057.39639| 2803.69785|(12,[0,1,2,4,10],...|\n",
      "|2877.1080386419753| 2775.19215|(12,[0,1,2,4,11],...|\n",
      "| 7709.028154963504|   7740.337|(12,[0,1,2,5,6,8]...|\n",
      "| 7709.028154963504|   4260.744|(12,[0,1,2,5,6,8]...|\n",
      "| 7709.028154963504|   5253.524|(12,[0,1,2,5,6,8]...|\n",
      "| 7709.028154963504|   3906.127|(12,[0,1,2,5,6,9]...|\n",
      "|14865.524260909091|  10436.096|(12,[0,1,2,5,7,9]...|\n",
      "| 6559.596719082569| 4667.60765|(12,[0,1,2,6,8],[...|\n",
      "| 7709.028154963504|  6406.4107|(12,[0,1,2,6,9],[...|\n",
      "|14086.585834029853|11488.31695|(12,[0,1,2,7,8],[...|\n",
      "|        37574.0343| 34303.1672|(12,[0,1,3,8],[2....|\n",
      "| 21889.52809857143| 20745.9891|(12,[0,1,4,6,9],[...|\n",
      "|   37620.348241875|51194.55914|(12,[0,1,5,6,8],[...|\n",
      "|        21762.5643| 24869.8368|(12,[0,1,7,10],[3...|\n",
      "+------------------+-----------+--------------------+\n",
      "only showing top 20 rows\n",
      "\n"
     ]
    }
   ],
   "source": [
    "dt= DecisionTreeRegressor(featuresCol='feature', labelCol='charges' )\n",
    "model= dt.fit(train)\n",
    "pred=model.transform(test)\n",
    "pred.select('prediction','charges','feature').show()"
   ]
  },
  {
   "cell_type": "code",
   "execution_count": 41,
   "metadata": {},
   "outputs": [
    {
     "name": "stdout",
     "output_type": "stream",
     "text": [
      "R squared= 0.839198\n",
      "rmse: 4567.64\n"
     ]
    }
   ],
   "source": [
    "from pyspark.ml.evaluation import RegressionEvaluator\n",
    "\n",
    "evalu= RegressionEvaluator(predictionCol='prediction', labelCol='charges', metricName='r2' )\n",
    "print('R squared= %g' %evalu.evaluate(pred))\n",
    "\n",
    "evalu1= RegressionEvaluator(predictionCol='prediction', labelCol='charges', metricName='rmse' )\n",
    "print(\"rmse: %g\" % evalu1.evaluate(pred))"
   ]
  },
  {
   "cell_type": "markdown",
   "metadata": {},
   "source": [
    "#### Random Forest"
   ]
  },
  {
   "cell_type": "code",
   "execution_count": 42,
   "metadata": {},
   "outputs": [
    {
     "name": "stdout",
     "output_type": "stream",
     "text": [
      "+------------------+-----------+--------------------+\n",
      "|        prediction|    charges|             feature|\n",
      "+------------------+-----------+--------------------+\n",
      "|  7750.89385410375|  7731.4271|(12,[0,1,2,3,6,8]...|\n",
      "|12408.653266775418| 11946.6259|(12,[0,1,2,3,7,8]...|\n",
      "| 4276.038690222232|  1719.4363|(12,[0,1,2,3,9],[...|\n",
      "|  8487.51861612924| 3877.30425|(12,[0,1,2,4,6,8]...|\n",
      "| 6747.621499065448|  4894.7533|(12,[0,1,2,4,6,9]...|\n",
      "| 7129.558465663858|  5125.2157|(12,[0,1,2,4,6,10...|\n",
      "|   6594.1934622801| 2803.69785|(12,[0,1,2,4,10],...|\n",
      "| 4577.195473773203| 2775.19215|(12,[0,1,2,4,11],...|\n",
      "| 7985.188151370705|   7740.337|(12,[0,1,2,5,6,8]...|\n",
      "| 7965.911079099862|   4260.744|(12,[0,1,2,5,6,8]...|\n",
      "| 7965.911079099862|   5253.524|(12,[0,1,2,5,6,8]...|\n",
      "|7751.5910529742205|   3906.127|(12,[0,1,2,5,6,9]...|\n",
      "| 12200.47076503634|  10436.096|(12,[0,1,2,5,7,9]...|\n",
      "| 7707.851989735756| 4667.60765|(12,[0,1,2,6,8],[...|\n",
      "| 7528.654549065434|  6406.4107|(12,[0,1,2,6,9],[...|\n",
      "|13425.196958331397|11488.31695|(12,[0,1,2,7,8],[...|\n",
      "|34138.717954297754| 34303.1672|(12,[0,1,3,8],[2....|\n",
      "|21066.220661971915| 20745.9891|(12,[0,1,4,6,9],[...|\n",
      "|35398.962280866195|51194.55914|(12,[0,1,5,6,8],[...|\n",
      "|20841.457982679472| 24869.8368|(12,[0,1,7,10],[3...|\n",
      "+------------------+-----------+--------------------+\n",
      "only showing top 20 rows\n",
      "\n"
     ]
    }
   ],
   "source": [
    "rf= RandomForestRegressor(featuresCol='feature', labelCol='charges' )\n",
    "model= rf.fit(train)\n",
    "pred=model.transform(test)\n",
    "pred.select('prediction','charges','feature').show()"
   ]
  },
  {
   "cell_type": "code",
   "execution_count": 43,
   "metadata": {},
   "outputs": [
    {
     "name": "stdout",
     "output_type": "stream",
     "text": [
      "R squared= 0.821342\n",
      "rmse: 4814.56\n"
     ]
    }
   ],
   "source": [
    "from pyspark.ml.evaluation import RegressionEvaluator\n",
    "\n",
    "evalu= RegressionEvaluator(predictionCol='prediction', labelCol='charges', metricName='r2' )\n",
    "print('R squared= %g' %evalu.evaluate(pred))\n",
    "\n",
    "evalu1= RegressionEvaluator(predictionCol='prediction', labelCol='charges', metricName='rmse' )\n",
    "print(\"rmse: %g\" % evalu1.evaluate(pred))"
   ]
  },
  {
   "cell_type": "markdown",
   "metadata": {},
   "source": [
    "#### Model Tuning: Decision Tree"
   ]
  },
  {
   "cell_type": "code",
   "execution_count": 44,
   "metadata": {},
   "outputs": [],
   "source": [
    "from pyspark.ml.tuning import ParamGridBuilder, CrossValidator"
   ]
  },
  {
   "cell_type": "code",
   "execution_count": 45,
   "metadata": {},
   "outputs": [],
   "source": [
    "grid= (ParamGridBuilder()\n",
    "       .addGrid(dt.maxDepth, [2, 5, 10, 20, 30 ])\n",
    "       .addGrid(dt.maxBins, [10,20,30])\n",
    "       .build())"
   ]
  },
  {
   "cell_type": "code",
   "execution_count": 46,
   "metadata": {},
   "outputs": [],
   "source": [
    "dteval= RegressionEvaluator(predictionCol='prediction', labelCol='charges', metricName='rmse')"
   ]
  },
  {
   "cell_type": "code",
   "execution_count": 47,
   "metadata": {},
   "outputs": [],
   "source": [
    "dtcv= CrossValidator(estimator= dt, estimatorParamMaps= grid, evaluator= dteval, numFolds= 4)\n",
    "dtc=dtcv.fit(train)"
   ]
  },
  {
   "cell_type": "code",
   "execution_count": 48,
   "metadata": {},
   "outputs": [],
   "source": [
    "pred= dtc.transform(test)"
   ]
  },
  {
   "cell_type": "code",
   "execution_count": 49,
   "metadata": {},
   "outputs": [
    {
     "name": "stdout",
     "output_type": "stream",
     "text": [
      "R squared= 0.839198\n",
      "rmse: 4567.64\n"
     ]
    }
   ],
   "source": [
    "evalu= RegressionEvaluator(predictionCol='prediction', labelCol='charges', metricName='r2' )\n",
    "print('R squared= %g' %evalu.evaluate(pred))\n",
    "print(\"rmse: %g\" % dteval.evaluate(pred))"
   ]
  },
  {
   "cell_type": "code",
   "execution_count": 50,
   "metadata": {},
   "outputs": [],
   "source": [
    "grid1= (ParamGridBuilder()\n",
    "       .addGrid(gbt.maxDepth, [2, 5, 10, 20, 30 ])\n",
    "       .addGrid(gbt.maxBins, [10,20,30])\n",
    "        .addGrid(gbt.maxIter, [10,20,25, 30,35, 50])\n",
    "       .build())"
   ]
  },
  {
   "cell_type": "markdown",
   "metadata": {},
   "source": [
    "#### Model Tuning: Random Forest"
   ]
  },
  {
   "cell_type": "code",
   "execution_count": 51,
   "metadata": {},
   "outputs": [],
   "source": [
    "from pyspark.ml.evaluation import RegressionEvaluator\n",
    "\n",
    "gbteval= RegressionEvaluator(predictionCol='prediction', labelCol='charges', metricName='rmse' )"
   ]
  },
  {
   "cell_type": "code",
   "execution_count": 52,
   "metadata": {},
   "outputs": [],
   "source": [
    "gbtcv= CrossValidator(estimator= rf, estimatorParamMaps= grid1, evaluator= gbteval, numFolds= 4)\n",
    "gbtc=gbtcv.fit(train)"
   ]
  },
  {
   "cell_type": "code",
   "execution_count": 53,
   "metadata": {},
   "outputs": [],
   "source": [
    "pred= gbtc.transform(test)"
   ]
  },
  {
   "cell_type": "code",
   "execution_count": 54,
   "metadata": {},
   "outputs": [
    {
     "name": "stdout",
     "output_type": "stream",
     "text": [
      "R squared= 0.821342\n",
      "rmse: 4814.56\n"
     ]
    }
   ],
   "source": [
    "evalu= RegressionEvaluator(predictionCol='prediction', labelCol='charges', metricName='r2' )\n",
    "print('R squared= %g' %evalu.evaluate(pred))\n",
    "print(\"rmse: %g\" % gbteval.evaluate(pred))"
   ]
  },
  {
   "cell_type": "code",
   "execution_count": null,
   "metadata": {},
   "outputs": [],
   "source": []
  }
 ],
 "metadata": {
  "kernelspec": {
   "display_name": "Python 3",
   "language": "python",
   "name": "python3"
  },
  "language_info": {
   "codemirror_mode": {
    "name": "ipython",
    "version": 3
   },
   "file_extension": ".py",
   "mimetype": "text/x-python",
   "name": "python",
   "nbconvert_exporter": "python",
   "pygments_lexer": "ipython3",
   "version": "3.8.3"
  }
 },
 "nbformat": 4,
 "nbformat_minor": 2
}
